{
 "cells": [
  {
   "cell_type": "code",
   "execution_count": 1,
   "metadata": {},
   "outputs": [
    {
     "data": {
      "text/plain": [
       "True"
      ]
     },
     "execution_count": 1,
     "metadata": {},
     "output_type": "execute_result"
    }
   ],
   "source": [
    "import os\n",
    "from pathlib import Path\n",
    "from google.oauth2 import service_account\n",
    "import googleapiclient\n",
    "from dotenv import load_dotenv\n",
    "import json\n",
    "from typing import List, Union\n",
    "from datetime import datetime, timezone\n",
    "import gzip\n",
    "\n",
    "load_dotenv()"
   ]
  },
  {
   "cell_type": "code",
   "execution_count": null,
   "metadata": {},
   "outputs": [],
   "source": [
    "def create_service_account_credentials(api_config: dict) -> service_account.Credentials:\n",
    "    return service_account.Credentials.from_service_account_file(\n",
    "        filename=api_config[\"key_file_path\"],\n",
    "        scopes=api_config[\"scopes\"]\n",
    "    )\n",
    "\n",
    "def create_youtube_api_resource(\n",
    "    api_config: dict,\n",
    "    credentials: service_account.Credentials\n",
    ") -> googleapiclient.discovery.Resource:\n",
    "    return googleapiclient.discovery.build(\n",
    "        serviceName=api_config[\"api_service_name\"], \n",
    "        version=api_config[\"api_version\"], \n",
    "        credentials=credentials\n",
    "    )\n",
    "\n",
    "\n",
    "def get_channel_info(\n",
    "        youtube_resource: googleapiclient.discovery.Resource = None, \n",
    "        id: str = None\n",
    "    ) -> dict:\n",
    "\n",
    "    request = youtube_resource.channels().list(\n",
    "        part=\"snippet,contentDetails,statistics,topicDetails,status\",\n",
    "        id=id\n",
    "    )\n",
    "    return request.execute()\n",
    "\n",
    "\n",
    "def parse_channel_uploads_playlist_id(response_channel: dict) -> str:\n",
    "    return response_channel[\"items\"][0][\"contentDetails\"][\"relatedPlaylists\"][\"uploads\"]\n",
    "\n",
    "\n",
    "def paginate_all_channel_uploads(\n",
    "    youtube_resource: googleapiclient.discovery.Resource, \n",
    "    uploads_playlist_id: str\n",
    ") -> List[dict]:\n",
    "    def get_uploads_playlist_items(next_page_token: str = None):\n",
    "        request = youtube_resource.playlistItems().list(\n",
    "            part=\"snippet,contentDetails,status\",\n",
    "            maxResults=50,\n",
    "            playlistId=uploads_playlist_id,\n",
    "            pageToken=next_page_token\n",
    "        )\n",
    "        response_playlist_items = request.execute()\n",
    "\n",
    "        return response_playlist_items\n",
    "\n",
    "    video_metadata = []\n",
    "    response_playlist_items = get_uploads_playlist_items()\n",
    "    video_metadata.extend(response_playlist_items[\"items\"])\n",
    "\n",
    "    while response_playlist_items.get(\"nextPageToken\"):\n",
    "        response_playlist_items = get_uploads_playlist_items(response_playlist_items.get(\"nextPageToken\"))\n",
    "        video_metadata.extend(response_playlist_items[\"items\"])\n",
    "\n",
    "    return video_metadata\n",
    "\n",
    "\n",
    "def identify_project_root_dir() -> Path:\n",
    "    return Path(__file__).resolve().parent.parent.parent.parent\n",
    "\n",
    "\n",
    "def create_abs_file_path(channel_folder_name: str, data_source: str) -> str:\n",
    "    return f\"{identify_project_root_dir()}/datasets/{channel_folder_name}/youtube_api/raw/{data_source}/{datetime.now().strftime('%Y-%m-%d')}.json.gz\"\n",
    "    \n",
    "\n",
    "def create_file_path_if_doesnt_exist(file_path: str) -> None:\n",
    "    os.makedirs(os.path.dirname(file_path), exist_ok=True)\n",
    "\n",
    "\n",
    "def write_object_to_json_gzip_file(object: Union[dict, List[dict]], file_path: str) -> None:\n",
    "    create_file_path_if_doesnt_exist(file_path)\n",
    "    with gzip.open(file_path, \"wt\", encoding=\"utf-8\") as f:\n",
    "        json.dump(object, f, indent=4)"
   ]
  },
  {
   "cell_type": "code",
   "execution_count": null,
   "metadata": {},
   "outputs": [],
   "source": [
    "api_config = {\n",
    "    \"scopes\": [\n",
    "        \"https://www.googleapis.com/auth/youtube.readonly\"\n",
    "    ],\n",
    "    \"api_service_name\": \"youtube\",\n",
    "    \"api_version\": \"v3\",\n",
    "    \"key_file_path\": \"key_youtube-stats-459404-eefde03eff46.json\"\n",
    "}\n",
    "\n",
    "credentials = create_service_account_credentials(api_config)\n",
    "youtube_resource = create_youtube_api_resource(api_config, credentials)\n",
    "\n",
    "# identify channel\n",
    "lirik_plays_channel_id = \"UCebh6Np0l-DT9LXHrXbmopg\"\n",
    "response_channel = get_channel_info(youtube_resource, lirik_plays_channel_id)\n",
    "\n",
    "# # identify uploads playlist, pull all videos\n",
    "# uploads_playlist_id = parse_channel_uploads_playlist_id(response_channel)\n",
    "# all_video_metadata = paginate_all_channel_uploads(youtube_resource, uploads_playlist_id)"
   ]
  },
  {
   "cell_type": "code",
   "execution_count": null,
   "metadata": {},
   "outputs": [],
   "source": [
    "# write raw channel & video data as json to code repo\n",
    "\n",
    "# # channel\n",
    "# write_object_to_json_gzip_file(response_channel, create_abs_file_path(\"lirik_plays\", \"channel\"))\n",
    "\n",
    "# # video\n",
    "# write_object_to_json_gzip_file(all_video_metadata, create_abs_file_path(\"lirik_plays\", \"video\"))\n"
   ]
  },
  {
   "cell_type": "code",
   "execution_count": null,
   "metadata": {},
   "outputs": [],
   "source": [
    "from pathlib import Path\n",
    "\n",
    "\n",
    "def get_workflow_runs(file_path: str) -> Union[None, List[dict]]:\n",
    "    # if file path doesnt exist, return\n",
    "    if not Path(file_path).is_file():\n",
    "        return\n",
    "\n",
    "    with gzip.open(file_path, \"rt\", encoding=\"utf-8\") as f:\n",
    "        return json.load(f)\n",
    "    \n",
    "\n",
    "def create_workflow_run_log(\n",
    "    channel_id: str,\n",
    "    channel_folder_name: str,\n",
    "    key_file_path: str,\n",
    "    created_at: str,\n",
    "):\n",
    "    return {\n",
    "        \"id\": 0,\n",
    "        \"channel_id\": channel_id,\n",
    "        \"channel_folder_name\": channel_folder_name,\n",
    "        \"key_file_path\": key_file_path,\n",
    "        \"created_at\": created_at\n",
    "    }\n",
    "    \n",
    "\n",
    "def increment_log_id(\n",
    "    new_workflow_run: dict,\n",
    "    workflow_runs: List[dict]\n",
    ") -> dict:\n",
    "    new_workflow_run[\"id\"] = workflow_runs[-1][\"id\"] + 1\n",
    "    return new_workflow_run\n",
    "    \n",
    "\n",
    "def update_workflow_runs(\n",
    "    new_workflow_run: dict,\n",
    "    workflow_runs: Union[None, List[dict]]\n",
    ") -> List[dict]:\n",
    "    if not workflow_runs:\n",
    "        return [new_workflow_run]\n",
    "\n",
    "    new_workflow_run = increment_log_id(new_workflow_run, workflow_runs)\n",
    "    return workflow_runs + [new_workflow_run]"
   ]
  },
  {
   "cell_type": "code",
   "execution_count": 306,
   "metadata": {},
   "outputs": [],
   "source": [
    "import uuid\n",
    "str(uuid.uuid4())\n",
    "\n",
    "def create_workflow_run_log(\n",
    "    id: str,\n",
    "    channel_id: str,\n",
    "    channel_folder_name: str,\n",
    "    key_file_path: str,\n",
    "    created_at: str,\n",
    "):\n",
    "    return {\n",
    "        \"id\": id,\n",
    "        \"channel_id\": channel_id,\n",
    "        \"channel_folder_name\": channel_folder_name,\n",
    "        \"key_file_path\": key_file_path,\n",
    "        \"created_at\": created_at\n",
    "    }"
   ]
  },
  {
   "cell_type": "code",
   "execution_count": 310,
   "metadata": {},
   "outputs": [
    {
     "data": {
      "text/plain": [
       "{'id': '670cecf4-fe3a-4d1b-8da4-808b53c6de07',\n",
       " 'channel_id': 'abc',\n",
       " 'channel_folder_name': 'lirik_plays',\n",
       " 'key_file_path': 'asdsadsada.json',\n",
       " 'created_at': '2025-05-14_18-54-55_+0000'}"
      ]
     },
     "execution_count": 310,
     "metadata": {},
     "output_type": "execute_result"
    }
   ],
   "source": [
    "create_workflow_run_log(\n",
    "    str(uuid.uuid4()),\n",
    "    \"abc\",\n",
    "    \"lirik_plays\",\n",
    "    \"asdsadsada.json\",\n",
    "    datetime.now(timezone.utc).strftime('%Y-%m-%d_%H-%M-%S_%z')\n",
    ")"
   ]
  },
  {
   "cell_type": "code",
   "execution_count": 296,
   "metadata": {},
   "outputs": [],
   "source": [
    "from datetime import datetime, timezone"
   ]
  },
  {
   "cell_type": "code",
   "execution_count": 297,
   "metadata": {},
   "outputs": [
    {
     "data": {
      "text/plain": [
       "datetime.datetime(2025, 5, 14, 18, 2, 56, 732067, tzinfo=datetime.timezone.utc)"
      ]
     },
     "execution_count": 297,
     "metadata": {},
     "output_type": "execute_result"
    }
   ],
   "source": [
    "datetime.now(timezone.utc)"
   ]
  },
  {
   "cell_type": "code",
   "execution_count": 304,
   "metadata": {},
   "outputs": [
    {
     "data": {
      "text/plain": [
       "'2025-05-14_18-05-37_+0000'"
      ]
     },
     "execution_count": 304,
     "metadata": {},
     "output_type": "execute_result"
    }
   ],
   "source": [
    "datetime.now(timezone.utc).strftime('%Y-%m-%d_%H-%M-%S_%z')"
   ]
  },
  {
   "cell_type": "code",
   "execution_count": 299,
   "metadata": {},
   "outputs": [
    {
     "name": "stdout",
     "output_type": "stream",
     "text": [
      "2025-05-14 12:03:20.442521-06:00\n"
     ]
    }
   ],
   "source": [
    "aware_local_now = datetime.now(timezone.utc).astimezone()\n",
    "print(aware_local_now)"
   ]
  },
  {
   "cell_type": "code",
   "execution_count": 295,
   "metadata": {},
   "outputs": [
    {
     "name": "stdout",
     "output_type": "stream",
     "text": [
      "2025-05-14 12:02:46.254871-06:00\n"
     ]
    }
   ],
   "source": [
    "aware_local_now = datetime.now(timezone.utc).astimezone()\n",
    "print(aware_local_now)"
   ]
  },
  {
   "cell_type": "code",
   "execution_count": 309,
   "metadata": {},
   "outputs": [],
   "source": [
    "# def refresh_workflow_runs(\n",
    "#     file_path: str,\n",
    "#     channel_id: str,\n",
    "#     channel_folder_name: str,\n",
    "#     key_file_path: str,\n",
    "#     run_date: str,\n",
    "# ):\n",
    "#     logs = get_workflow_runs(file_path)\n",
    "#     log = create_workflow_run(\n",
    "#         channel_id=channel_id,\n",
    "#         channel_folder_name=channel_folder_name,\n",
    "#         key_file_path=key_file_path,\n",
    "#         run_date=run_date\n",
    "#     )\n",
    "#     logs = update_workflow_runs(log, logs)\n",
    "\n",
    "#     with gzip.open(file_path, \"wt\", encoding=\"utf-8\") as f:\n",
    "#         json.dump(logs, f, indent=4)"
   ]
  },
  {
   "cell_type": "code",
   "execution_count": 305,
   "metadata": {},
   "outputs": [],
   "source": [
    "# logs = get_workflow_runs(\"logs.json.gz\")\n",
    "# log = create_workflow_run(\n",
    "#     channel_id=\"UCebh6Np0l-DT9LXHrXbmopg\",\n",
    "#     channel_folder_name=\"lirik_plays\",\n",
    "#     key_file_path=\"key_youtube-stats-459404-eefde03eff46.json\",\n",
    "#     run_date=datetime.now().strftime('%Y-%m-%d ')\n",
    "# )\n",
    "# logs = update_workflow_runs(log, logs)\n",
    "\n",
    "# with gzip.open(\"logs.json.gz\", \"wt\", encoding=\"utf-8\") as f:\n",
    "#     json.dump(logs, f, indent=4)\n",
    "\n",
    "# print(json.dumps(log, indent=4))\n",
    "# print(json.dumps(logs, indent=4))\n"
   ]
  },
  {
   "cell_type": "code",
   "execution_count": null,
   "metadata": {},
   "outputs": [],
   "source": []
  }
 ],
 "metadata": {
  "kernelspec": {
   "display_name": ".venv",
   "language": "python",
   "name": "python3"
  },
  "language_info": {
   "codemirror_mode": {
    "name": "ipython",
    "version": 3
   },
   "file_extension": ".py",
   "mimetype": "text/x-python",
   "name": "python",
   "nbconvert_exporter": "python",
   "pygments_lexer": "ipython3",
   "version": "3.13.3"
  }
 },
 "nbformat": 4,
 "nbformat_minor": 2
}
