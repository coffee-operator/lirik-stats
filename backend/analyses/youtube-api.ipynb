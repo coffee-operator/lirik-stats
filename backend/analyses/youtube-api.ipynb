{
 "cells": [
  {
   "cell_type": "code",
   "execution_count": 88,
   "metadata": {},
   "outputs": [
    {
     "data": {
      "text/plain": [
       "True"
      ]
     },
     "execution_count": 88,
     "metadata": {},
     "output_type": "execute_result"
    }
   ],
   "source": [
    "import os\n",
    "from pathlib import Path\n",
    "from google.oauth2 import service_account\n",
    "from dotenv import load_dotenv\n",
    "import json\n",
    "from typing import List, Union\n",
    "from datetime import datetime\n",
    "import gzip\n",
    "\n",
    "load_dotenv()"
   ]
  },
  {
   "cell_type": "code",
   "execution_count": 89,
   "metadata": {},
   "outputs": [],
   "source": [
    "def create_service_account_credentials(api_config: dict) -> service_account.Credentials:\n",
    "    return service_account.Credentials.from_service_account_file(\n",
    "        filename=api_config[\"key_file_path\"],\n",
    "        scopes=api_config[\"scopes\"]\n",
    "    )\n",
    "\n",
    "def create_youtube_api_resource(\n",
    "    api_config: dict,\n",
    "    credentials: service_account.Credentials\n",
    ") -> googleapiclient.discovery.Resource:\n",
    "    return googleapiclient.discovery.build(\n",
    "        serviceName=api_config[\"api_service_name\"], \n",
    "        version=api_config[\"api_version\"], \n",
    "        credentials=credentials\n",
    "    )\n",
    "\n",
    "\n",
    "def get_channel_info(\n",
    "        youtube_resource: googleapiclient.discovery.Resource = None, \n",
    "        id: str = None\n",
    "    ) -> dict:\n",
    "\n",
    "    request = youtube_resource.channels().list(\n",
    "        part=\"snippet,contentDetails,statistics,topicDetails,status\",\n",
    "        id=id\n",
    "    )\n",
    "    return request.execute()\n",
    "\n",
    "\n",
    "def parse_channel_uploads_playlist_id(response_channel: dict) -> str:\n",
    "    return response_channel[\"items\"][0][\"contentDetails\"][\"relatedPlaylists\"][\"uploads\"]\n",
    "\n",
    "\n",
    "def paginate_all_channel_uploads(\n",
    "    youtube_resource: googleapiclient.discovery.Resource, \n",
    "    uploads_playlist_id: str\n",
    ") -> List[dict]:\n",
    "    def get_uploads_playlist_items(next_page_token: str = None):\n",
    "        request = youtube_resource.playlistItems().list(\n",
    "            part=\"snippet,contentDetails,status\",\n",
    "            maxResults=50,\n",
    "            playlistId=uploads_playlist_id,\n",
    "            pageToken=next_page_token\n",
    "        )\n",
    "        response_playlist_items = request.execute()\n",
    "\n",
    "        return response_playlist_items\n",
    "\n",
    "    video_metadata = []\n",
    "    response_playlist_items = get_uploads_playlist_items()\n",
    "    video_metadata.extend(response_playlist_items[\"items\"])\n",
    "\n",
    "    while response_playlist_items.get(\"nextPageToken\"):\n",
    "        response_playlist_items = get_uploads_playlist_items(response_playlist_items.get(\"nextPageToken\"))\n",
    "        video_metadata.extend(response_playlist_items[\"items\"])\n",
    "\n",
    "    return video_metadata\n",
    "\n",
    "\n",
    "def create_file_path_if_doesnt_exist(file_path: str) -> None:\n",
    "    os.makedirs(os.path.dirname(file_path), exist_ok=True)\n",
    "\n",
    "\n",
    "def write_object_to_json_gzip_file(object: Union[dict, List[dict]], file_path: str) -> None:\n",
    "    create_file_path_if_doesnt_exist(file_path)\n",
    "    with gzip.open(file_path, \"wt\", encoding=\"utf-8\") as f:\n",
    "        json.dump(object, f, indent=4)"
   ]
  },
  {
   "cell_type": "code",
   "execution_count": 90,
   "metadata": {},
   "outputs": [],
   "source": [
    "api_config = {\n",
    "    \"scopes\": [\n",
    "        \"https://www.googleapis.com/auth/youtube.readonly\"\n",
    "    ],\n",
    "    \"api_service_name\": \"youtube\",\n",
    "    \"api_version\": \"v3\",\n",
    "    \"key_file_path\": \"key_youtube-stats-459404-eefde03eff46.json\"\n",
    "}\n",
    "\n",
    "credentials = create_service_account_credentials(api_config)\n",
    "youtube_resource = create_youtube_api_resource(api_config, credentials)\n",
    "\n",
    "# identify channel\n",
    "lirik_plays_channel_id = \"UCebh6Np0l-DT9LXHrXbmopg\"\n",
    "response_channel = get_channel_info(youtube_resource, lirik_plays_channel_id)\n",
    "\n",
    "# # identify uploads playlist, pull all videos\n",
    "# uploads_playlist_id = parse_channel_uploads_playlist_id(response_channel)\n",
    "# all_video_metadata = paginate_all_channel_uploads(youtube_resource, uploads_playlist_id)"
   ]
  },
  {
   "cell_type": "code",
   "execution_count": null,
   "metadata": {},
   "outputs": [],
   "source": [
    "# write raw channel & video data as json to code repo\n",
    "CWD = Path().cwd().resolve()\n",
    "\n",
    "# channel\n",
    "file_path = f\"{CWD}/../datasets/lirik_plays/youtube_api/raw/channel/{datetime.now().strftime(\"%Y-%m-%d\")}.json.gz\"\n",
    "write_object_to_json_gzip_file(response_channel, file_path)\n",
    "\n",
    "# # video\n",
    "# file_path = f\"{CWD}/../datasets/lirik_plays/youtube_api/raw/video/{datetime.now().strftime(\"%Y-%m-%d\")}.json.gz\"\n",
    "# write_object_to_json_gzip_file(all_video_metadata, file_path)"
   ]
  },
  {
   "cell_type": "code",
   "execution_count": null,
   "metadata": {},
   "outputs": [],
   "source": []
  }
 ],
 "metadata": {
  "kernelspec": {
   "display_name": ".venv",
   "language": "python",
   "name": "python3"
  },
  "language_info": {
   "codemirror_mode": {
    "name": "ipython",
    "version": 3
   },
   "file_extension": ".py",
   "mimetype": "text/x-python",
   "name": "python",
   "nbconvert_exporter": "python",
   "pygments_lexer": "ipython3",
   "version": "3.13.3"
  }
 },
 "nbformat": 4,
 "nbformat_minor": 2
}
